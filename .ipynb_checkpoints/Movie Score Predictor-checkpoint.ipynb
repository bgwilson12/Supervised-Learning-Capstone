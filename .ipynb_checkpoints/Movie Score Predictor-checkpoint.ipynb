{
 "cells": [
  {
   "cell_type": "code",
   "execution_count": 2,
   "metadata": {},
   "outputs": [
    {
     "name": "stdout",
     "output_type": "stream",
     "text": [
      "[nltk_data] Downloading package stopwords to\n",
      "[nltk_data]     C:\\Users\\bretw\\AppData\\Roaming\\nltk_data...\n",
      "[nltk_data]   Package stopwords is already up-to-date!\n"
     ]
    }
   ],
   "source": [
    "import pandas as pd\n",
    "import numpy as np\n",
    "import matplotlib.pyplot as plt\n",
    "import praw\n",
    "import requests\n",
    "import requests.auth\n",
    "import pprint\n",
    "import pickle\n",
    "import string\n",
    "import re\n",
    "import urllib.request\n",
    "import os\n",
    "import nltk\n",
    "nltk.download('stopwords')\n",
    "\n",
    "import google.oauth2.credentials\n",
    "import google_auth_oauthlib.flow\n",
    "from googleapiclient.discovery import build\n",
    "from googleapiclient.errors import HttpError\n",
    "from google_auth_oauthlib.flow import InstalledAppFlow\n",
    "\n",
    "from IPython.display import clear_output\n",
    "\n",
    "from nltk.corpus import stopwords\n",
    "\n",
    "from sklearn.feature_extraction.text import CountVectorizer\n",
    "from sklearn.naive_bayes import GaussianNB\n",
    "from sklearn.naive_bayes import MultinomialNB\n",
    "from sklearn.metrics import r2_score\n",
    "from sklearn.model_selection import train_test_split\n",
    "from sklearn.ensemble import GradientBoostingRegressor\n",
    "from sklearn.ensemble import GradientBoostingClassifier\n",
    "\n",
    "\n",
    "%matplotlib inline"
   ]
  },
  {
   "cell_type": "markdown",
   "metadata": {},
   "source": [
    "I have chosen the Fandango Movie Trailers channel on YouTube because the titles all have similar formatting."
   ]
  },
  {
   "cell_type": "code",
   "execution_count": 2,
   "metadata": {},
   "outputs": [
    {
     "data": {
      "text/html": [
       "<div>\n",
       "<style scoped>\n",
       "    .dataframe tbody tr th:only-of-type {\n",
       "        vertical-align: middle;\n",
       "    }\n",
       "\n",
       "    .dataframe tbody tr th {\n",
       "        vertical-align: top;\n",
       "    }\n",
       "\n",
       "    .dataframe thead th {\n",
       "        text-align: right;\n",
       "    }\n",
       "</style>\n",
       "<table border=\"1\" class=\"dataframe\">\n",
       "  <thead>\n",
       "    <tr style=\"text-align: right;\">\n",
       "      <th></th>\n",
       "      <th>movie</th>\n",
       "      <th>rating</th>\n",
       "    </tr>\n",
       "  </thead>\n",
       "  <tbody>\n",
       "    <tr>\n",
       "      <th>0</th>\n",
       "      <td>Blockers</td>\n",
       "      <td>4.8</td>\n",
       "    </tr>\n",
       "    <tr>\n",
       "      <th>1</th>\n",
       "      <td>Prospect</td>\n",
       "      <td>8.2</td>\n",
       "    </tr>\n",
       "    <tr>\n",
       "      <th>2</th>\n",
       "      <td>Galveston</td>\n",
       "      <td>8.1</td>\n",
       "    </tr>\n",
       "    <tr>\n",
       "      <th>3</th>\n",
       "      <td>Blood Fest</td>\n",
       "      <td>7.3</td>\n",
       "    </tr>\n",
       "    <tr>\n",
       "      <th>4</th>\n",
       "      <td>The Legacy of a Whitetail Deer Hunter</td>\n",
       "      <td>6.6</td>\n",
       "    </tr>\n",
       "  </tbody>\n",
       "</table>\n",
       "</div>"
      ],
      "text/plain": [
       "                                   movie  rating\n",
       "0                               Blockers     4.8\n",
       "1                               Prospect     8.2\n",
       "2                              Galveston     8.1\n",
       "3                             Blood Fest     7.3\n",
       "4  The Legacy of a Whitetail Deer Hunter     6.6"
      ]
     },
     "execution_count": 2,
     "metadata": {},
     "output_type": "execute_result"
    }
   ],
   "source": [
    "try:\n",
    "    df_raw_imdb = pickle.load(open('df_raw_imdb.pkl', 'rb'))\n",
    "except:\n",
    "    # Each iteration will nest a new list into this list. At the end, we can\n",
    "    # construct a dataframe from our list of lists.\n",
    "    new_row = []\n",
    "\n",
    "    # Despite the nested for loops, each loop runs fairly quickly. The biggest bottleneck\n",
    "    # is how long it takes to load a new page from imdb.\n",
    "    for page_number in range(1, 35):\n",
    "        if page_number % 7 == 0:\n",
    "            clear_output()\n",
    "            print(100 * page_number // 35)\n",
    "        # IMDB's movie listings are displayed 250 at a time, but I figured out a way to change the\n",
    "        # page number directly in the url.\n",
    "        imdb_url_front = 'http://www.imdb.com/search/title?title_type=feature&release_date=2015-01-01,2018-03-10&user_rating=1.0,&view=simple&sort=release_date,desc&count=250&page='\n",
    "        imdb_url_page = str(page_number)\n",
    "        imdb_url_back = '&ref_=adv_nxt'\n",
    "        imdb_url = imdb_url_front + imdb_url_page + imdb_url_back\n",
    "\n",
    "        # I'm a little fuzzy on these steps but I'll try to explain\n",
    "        # This line opens up the url... somewhere\n",
    "        fp = urllib.request.urlopen(imdb_url)\n",
    "        # This line reads the byte string to the variable imdb_byte_str\n",
    "        imdb_byte_str = fp.read()\n",
    "        # This line decodes the byte string into something that is human readable\n",
    "        imdb_source_string = imdb_byte_str.decode(\"utf8\")\n",
    "        # This closes the parser thingy\n",
    "        fp.close()\n",
    "\n",
    "        # Now we have a giant string full of info. We just need the movie title and rating.\n",
    "        # If we split the string on the phrase \"img alt=\", we will get a string that starts with\n",
    "        # our movie title, inside double quotes!\n",
    "        movie_split = re.split('\\\\bimg alt\\\\b', imdb_source_string)\n",
    "        for movie_number in range(3, 253):\n",
    "            new_movie_entry = []\n",
    "            movie_name = re.search('\"([^\"]*)', movie_split[movie_number]).group()[1:]\n",
    "            new_movie_entry.append(movie_name)\n",
    "\n",
    "            # Similarly, if we split current string again on the phrase\"users rated this \"\n",
    "            # Then we will have a string that starts pretty close to the movie for this title only\n",
    "            # Since not every movie has a rating, we will need to enclose this part in a try/except block\n",
    "            rating_split = re.split('\\\\bUsers rated this \\\\b', movie_split[movie_number])\n",
    "            try:\n",
    "                rating = ''\n",
    "                # I really need to learn regex. This looks at each character until it finds a backslash.\n",
    "                # This was necessary because some ratings are floats: '8.3/10' and others are ints: '8/10'\n",
    "                for char in rating_split[1][:5]:\n",
    "                    if char != '/':\n",
    "                        rating = rating + char\n",
    "                    else:\n",
    "                        break\n",
    "                new_movie_entry.append(float(rating))\n",
    "                new_row.append(new_movie_entry)\n",
    "            except:\n",
    "                new_movie_entry.append(np.nan)\n",
    "                new_row.append(new_movie_entry)\n",
    "    df_raw_imdb = pd.DataFrame(new_row, columns=['movie', 'rating'])\n",
    "    pickle.dump(df_raw_imdb, open('df_raw_imdb.pkl', 'wb'))\n",
    "    \n",
    "df_raw_imdb.head()"
   ]
  },
  {
   "cell_type": "code",
   "execution_count": 143,
   "metadata": {},
   "outputs": [
    {
     "data": {
      "text/plain": [
       "8500"
      ]
     },
     "execution_count": 143,
     "metadata": {},
     "output_type": "execute_result"
    }
   ],
   "source": [
    "len(df_raw_imdb)"
   ]
  },
  {
   "cell_type": "markdown",
   "metadata": {},
   "source": [
    "We now have a completely processed dataframe of imdb movie titles and their ratings. Next, we need to match the movie names to all of its trailers on YouTube (multiple trailers per movie)."
   ]
  },
  {
   "cell_type": "code",
   "execution_count": 3,
   "metadata": {},
   "outputs": [],
   "source": [
    "CLIENT_SECRETS_FILE = \"client_secret.json\"\n",
    "SCOPES = ['https://www.googleapis.com/auth/youtube.force-ssl']\n",
    "API_SERVICE_NAME = 'youtube'\n",
    "API_VERSION = 'v3'"
   ]
  },
  {
   "cell_type": "code",
   "execution_count": 4,
   "metadata": {},
   "outputs": [],
   "source": [
    "def get_authenticated_service():\n",
    "    flow = InstalledAppFlow.from_client_secrets_file(CLIENT_SECRETS_FILE, SCOPES)\n",
    "    credentials = flow.run_console()\n",
    "    return build(API_SERVICE_NAME, API_VERSION, credentials=credentials)"
   ]
  },
  {
   "cell_type": "code",
   "execution_count": 5,
   "metadata": {},
   "outputs": [
    {
     "name": "stdout",
     "output_type": "stream",
     "text": [
      "Please visit this URL to authorize this application: https://accounts.google.com/o/oauth2/auth?response_type=code&client_id=774297393996-anncug5qmibd1c2q6t058m33ecqpifjb.apps.googleusercontent.com&redirect_uri=urn%3Aietf%3Awg%3Aoauth%3A2.0%3Aoob&scope=https%3A%2F%2Fwww.googleapis.com%2Fauth%2Fyoutube.force-ssl&state=5R3PNMsi9JWW0sXDP62ZVLPGiH07dF&prompt=consent&access_type=offline\n"
     ]
    }
   ],
   "source": [
    "client = get_authenticated_service()"
   ]
  },
  {
   "cell_type": "code",
   "execution_count": 33,
   "metadata": {},
   "outputs": [],
   "source": [
    "def get_search_results(query, n_results=7, channelId='UCi8e0iOVk1fEOogdfu4YgfA'):\n",
    "    # This function searches a channelId (in this case, the movie trailers channel) and returns a list of trailer titles\n",
    "    # YouTube API (and Google in general) have a quota for each operation you do. Extracting a list of 50 comment threads,\n",
    "    # for instance, only costs \"4\" quota. Searching, however, is 100 each. This makes repeated searches really expensive,\n",
    "    # and I quickly hit the limit (1,000,000) on the day I built this function because I tested it so many times.\n",
    "    response = client.search().list(part='snippet',\n",
    "                                maxResults=n_results,\n",
    "                                q=query,\n",
    "                                channelId=channelId,\n",
    "                                order='relevance').execute\n",
    "    return response().get('items', [])\n",
    "\n",
    "def determine_exact_matches(query):\n",
    "    # This searches youtube with the given query and tries to find exact matches\n",
    "    # from the search. This works because the trailers all start with the exact title\n",
    "    # of the movie, while others are ignored.\n",
    "    search_results = get_search_results(query)\n",
    "    title_results = [each['snippet']['title'] for each in search_results]\n",
    "    title_results = process_movie_titles(title_results)\n",
    "    exact_match = []\n",
    "    for processed_title in title_results:\n",
    "        if str.lower(query) == processed_title:\n",
    "            exact_match.append(processed_title)\n",
    "    num_matches = len(exact_match)\n",
    "    return search_results[:num_matches]\n",
    "\n",
    "def process_movie_titles(title_list):\n",
    "    # This function takes a single youtube video title and strips away everything\n",
    "    # after the \"split_words\". For instance, this title:\n",
    "    # \"Star Wars: The Last Jedi official teaser (2017)\n",
    "    # would be returned as \"Star Wars: The Last Jedi\"\n",
    "    lower_title_list = [str.lower(each) for each in title_list]\n",
    "    processed_titles = []\n",
    "    for i, raw_title in enumerate(lower_title_list):\n",
    "        split_words = ['movie', 'official', 'trailer', 'teaser', 'red band', '|', '(2016)', '(2017)', '(2018)',\n",
    "                      'viral', '#1', '#2', '#3', '#4', '-', 'red']\n",
    "        for word in split_words:\n",
    "            if word in raw_title.split(' '):\n",
    "                lower_title_list[i] = lower_title_list[i].split(word)[0]\n",
    "        lower_title_list[i] = remove_trailing_spaces(lower_title_list[i])\n",
    "    return lower_title_list\n",
    "\n",
    "def remove_trailing_spaces(word):\n",
    "    # Some split operations left spaces at the end of the movie titles.\n",
    "    # For example: \"hello world  \" is returned as \"hello world\"\n",
    "    # I found out at a later time that there's a built-in function that\n",
    "    # does this, but meh. I already wrote this one.\n",
    "    if len(word) == 0:\n",
    "        return word\n",
    "    elif word.split(' ')[-1] != '':\n",
    "        return word\n",
    "    else:\n",
    "        return remove_trailing_spaces(word[:-1])"
   ]
  },
  {
   "cell_type": "code",
   "execution_count": 13,
   "metadata": {},
   "outputs": [
    {
     "data": {
      "text/html": [
       "<div>\n",
       "<style scoped>\n",
       "    .dataframe tbody tr th:only-of-type {\n",
       "        vertical-align: middle;\n",
       "    }\n",
       "\n",
       "    .dataframe tbody tr th {\n",
       "        vertical-align: top;\n",
       "    }\n",
       "\n",
       "    .dataframe thead th {\n",
       "        text-align: right;\n",
       "    }\n",
       "</style>\n",
       "<table border=\"1\" class=\"dataframe\">\n",
       "  <thead>\n",
       "    <tr style=\"text-align: right;\">\n",
       "      <th></th>\n",
       "      <th>movie</th>\n",
       "      <th>rating</th>\n",
       "      <th>youtube_hits</th>\n",
       "      <th>youtube_ids</th>\n",
       "    </tr>\n",
       "  </thead>\n",
       "  <tbody>\n",
       "    <tr>\n",
       "      <th>0</th>\n",
       "      <td>Blockers</td>\n",
       "      <td>4.8</td>\n",
       "      <td>[Blockers Trailer #2 (2018) | Movieclips Trail...</td>\n",
       "      <td>[f5wFSv7AGgU, LrlaH1wVMgI, UxhPDwPO1mA]</td>\n",
       "    </tr>\n",
       "    <tr>\n",
       "      <th>1</th>\n",
       "      <td>A Quiet Place</td>\n",
       "      <td>8.6</td>\n",
       "      <td>[A Quiet Place Teaser Trailer #1 (2018) | Movi...</td>\n",
       "      <td>[QmTt9c0S6HU, 3S0dT_V_Kvg]</td>\n",
       "    </tr>\n",
       "    <tr>\n",
       "      <th>2</th>\n",
       "      <td>Gringo</td>\n",
       "      <td>6.0</td>\n",
       "      <td>[Gringo Trailer #1 (2018) | Moveiclips Trailers]</td>\n",
       "      <td>[7-bZLM3I-C0]</td>\n",
       "    </tr>\n",
       "    <tr>\n",
       "      <th>3</th>\n",
       "      <td>Tomb Raider</td>\n",
       "      <td>6.9</td>\n",
       "      <td>[Tomb Raider Trailer #2 (2018) | Movieclips Tr...</td>\n",
       "      <td>[rOEHpkZCc1Y, enLIWGK9cC8]</td>\n",
       "    </tr>\n",
       "    <tr>\n",
       "      <th>4</th>\n",
       "      <td>Death Wish</td>\n",
       "      <td>6.6</td>\n",
       "      <td>[Death Wish Trailer #2 (2018) | Movieclips Tra...</td>\n",
       "      <td>[WkVCA0LDhwI, jsPLw7I06eY]</td>\n",
       "    </tr>\n",
       "  </tbody>\n",
       "</table>\n",
       "</div>"
      ],
      "text/plain": [
       "           movie  rating                                       youtube_hits  \\\n",
       "0       Blockers     4.8  [Blockers Trailer #2 (2018) | Movieclips Trail...   \n",
       "1  A Quiet Place     8.6  [A Quiet Place Teaser Trailer #1 (2018) | Movi...   \n",
       "2         Gringo     6.0   [Gringo Trailer #1 (2018) | Moveiclips Trailers]   \n",
       "3    Tomb Raider     6.9  [Tomb Raider Trailer #2 (2018) | Movieclips Tr...   \n",
       "4     Death Wish     6.6  [Death Wish Trailer #2 (2018) | Movieclips Tra...   \n",
       "\n",
       "                               youtube_ids  \n",
       "0  [f5wFSv7AGgU, LrlaH1wVMgI, UxhPDwPO1mA]  \n",
       "1               [QmTt9c0S6HU, 3S0dT_V_Kvg]  \n",
       "2                            [7-bZLM3I-C0]  \n",
       "3               [rOEHpkZCc1Y, enLIWGK9cC8]  \n",
       "4               [WkVCA0LDhwI, jsPLw7I06eY]  "
      ]
     },
     "execution_count": 13,
     "metadata": {},
     "output_type": "execute_result"
    }
   ],
   "source": [
    "try:\n",
    "    imdb_youtube_matched = pickle.load(open('imdb_youtube_matched.pkl', 'rb'))\n",
    "except:\n",
    "    print('Something went wrong, are you sure you want to run this?')\n",
    "    print('If so, please manually uncomment the code found below.')\n",
    "    # If you really want to run the code, uncomment the next lines\n",
    "#     imdb_youtube_matched = df_raw_imdb.copy()\n",
    "#     print(len(df_raw_imdb))\n",
    "#     imdb_youtube_matched['youtube_hits'] = None\n",
    "#     imdb_youtube_matched['youtube_ids'] = None\n",
    "#     n_rows = len(imdb_youtube_matched)\n",
    "#     prev_progress = 0.5\n",
    "#     print('0% complete')\n",
    "#     for i, query in enumerate(imdb_youtube_matched.movie):\n",
    "#         if 100 * i / n_rows > prev_progress:\n",
    "#             clear_output()\n",
    "#             prev_progress += 0.5\n",
    "#             print('{}% complete'.format(prev_progress))\n",
    "#         exact_match_list = determine_exact_matches(query)\n",
    "#         if exact_match_list == []:\n",
    "#             continue\n",
    "#         imdb_youtube_matched.at[i, 'youtube_hits'] = [each['snippet']['title'] for each in exact_match_list]\n",
    "#         imdb_youtube_matched.at[i, 'youtube_ids'] = [each['id']['videoId'] for each in exact_match_list]\n",
    "#     pickle.dump(imdb_youtube_matched, open('imdb_youtube_matched.pkl', 'wb'))\n",
    "    \n",
    "imdb_youtube_matched.dropna(inplace=True)\n",
    "imdb_youtube_matched.reset_index(inplace=True, drop=True)\n",
    "imdb_youtube_matched.head()"
   ]
  },
  {
   "cell_type": "markdown",
   "metadata": {},
   "source": [
    "Next, we will need to pull all of the comments from each trailer, including replies, and put them into a list (or other structure)."
   ]
  },
  {
   "cell_type": "code",
   "execution_count": 170,
   "metadata": {},
   "outputs": [],
   "source": [
    "def create_movie_thread_list(videoId):\n",
    "    # The first two lines retrieve the first page and initialize the movie's list of comments\n",
    "    firstPage_thread_list = get_next_page(videoId, nextPageToken=None)\n",
    "    movie_thread_list = create_each_thread(firstPage_thread_list)\n",
    "    # The next page token is saved in this variable\n",
    "    if 'nextPageToken' in firstPage_thread_list:\n",
    "        nextPageToken = firstPage_thread_list['nextPageToken']\n",
    "    else:\n",
    "        return movie_thread_list\n",
    "    while nextPageToken:\n",
    "        try:\n",
    "            # Similar to the initialization, the first two line extend the movie's list of comments\n",
    "            # for each additional page that exists.\n",
    "            nextPage_thread_list = get_next_page(videoId, nextPageToken)\n",
    "            movie_thread_list.extend(create_each_thread(nextPage_thread_list))\n",
    "            nextPageToken = nextPage_thread_list['nextPageToken']\n",
    "        except:\n",
    "            nextPageToken = None\n",
    "    return movie_thread_list\n",
    "     \n",
    "\n",
    "def get_next_page(videoId, nextPageToken):\n",
    "    # When the pageToken is None, this function will return the first page\n",
    "    if nextPageToken == None:\n",
    "        nextPage_thread_list = client.commentThreads().list(part='snippet, replies, id',\n",
    "                                            videoId=videoId,\n",
    "                                            maxResults=100\n",
    "                                                           ).execute()\n",
    "    else:\n",
    "        nextPage_thread_list = client.commentThreads().list(part='snippet, replies, id',\n",
    "                                            videoId=videoId,\n",
    "                                            maxResults=100,\n",
    "                                            pageToken=nextPageToken\n",
    "                                                           ).execute()\n",
    "    return nextPage_thread_list\n",
    "\n",
    "def create_each_thread(commentThreadList):\n",
    "    return [get_thread_info(commentThread) for commentThread in commentThreadList['items']]\n",
    "    \n",
    "def get_replies(threadReplies):\n",
    "    return [reply_comment['snippet']['textOriginal'] for reply_comment in threadReplies['comments']]\n",
    "\n",
    "def get_thread_info(commentThread):\n",
    "    replies=None\n",
    "    if commentThread['snippet']['totalReplyCount']:\n",
    "        try:\n",
    "            replies = get_replies(commentThread['replies'])\n",
    "        except:\n",
    "            replies = None\n",
    "    return {'id':commentThread['id'],\n",
    "     'date_published':commentThread['snippet']['topLevelComment']['snippet']['publishedAt'],\n",
    "     'top_level_text':commentThread['snippet']['topLevelComment']['snippet']['textOriginal'], \n",
    "     'all_replies':replies}"
   ]
  },
  {
   "cell_type": "code",
   "execution_count": 3,
   "metadata": {},
   "outputs": [
    {
     "data": {
      "text/html": [
       "<div>\n",
       "<style scoped>\n",
       "    .dataframe tbody tr th:only-of-type {\n",
       "        vertical-align: middle;\n",
       "    }\n",
       "\n",
       "    .dataframe tbody tr th {\n",
       "        vertical-align: top;\n",
       "    }\n",
       "\n",
       "    .dataframe thead th {\n",
       "        text-align: right;\n",
       "    }\n",
       "</style>\n",
       "<table border=\"1\" class=\"dataframe\">\n",
       "  <thead>\n",
       "    <tr style=\"text-align: right;\">\n",
       "      <th></th>\n",
       "      <th>movie</th>\n",
       "      <th>rating</th>\n",
       "      <th>youtube_hits</th>\n",
       "      <th>youtube_ids</th>\n",
       "      <th>comment_threads</th>\n",
       "      <th>n_top_level_comments</th>\n",
       "    </tr>\n",
       "  </thead>\n",
       "  <tbody>\n",
       "    <tr>\n",
       "      <th>0</th>\n",
       "      <td>Blockers</td>\n",
       "      <td>4.8</td>\n",
       "      <td>[Blockers Trailer #2 (2018) | Movieclips Trail...</td>\n",
       "      <td>[f5wFSv7AGgU, LrlaH1wVMgI, UxhPDwPO1mA]</td>\n",
       "      <td>[{'id': 'UgwzfWOz7ibegz75OQ14AaABAg', 'date_pu...</td>\n",
       "      <td>228</td>\n",
       "    </tr>\n",
       "    <tr>\n",
       "      <th>1</th>\n",
       "      <td>A Quiet Place</td>\n",
       "      <td>8.6</td>\n",
       "      <td>[A Quiet Place Teaser Trailer #1 (2018) | Movi...</td>\n",
       "      <td>[QmTt9c0S6HU, 3S0dT_V_Kvg]</td>\n",
       "      <td>[{'id': 'UgwQPiVh2noJur6urJ54AaABAg', 'date_pu...</td>\n",
       "      <td>127</td>\n",
       "    </tr>\n",
       "    <tr>\n",
       "      <th>2</th>\n",
       "      <td>Gringo</td>\n",
       "      <td>6.0</td>\n",
       "      <td>[Gringo Trailer #1 (2018) | Moveiclips Trailers]</td>\n",
       "      <td>[7-bZLM3I-C0]</td>\n",
       "      <td>[{'id': 'UgwNn-F2OeUunAF8ICJ4AaABAg', 'date_pu...</td>\n",
       "      <td>362</td>\n",
       "    </tr>\n",
       "    <tr>\n",
       "      <th>3</th>\n",
       "      <td>Tomb Raider</td>\n",
       "      <td>6.9</td>\n",
       "      <td>[Tomb Raider Trailer #2 (2018) | Movieclips Tr...</td>\n",
       "      <td>[rOEHpkZCc1Y, enLIWGK9cC8]</td>\n",
       "      <td>[{'id': 'UgzlBM4wC0L20qLRSeJ4AaABAg', 'date_pu...</td>\n",
       "      <td>759</td>\n",
       "    </tr>\n",
       "    <tr>\n",
       "      <th>4</th>\n",
       "      <td>Death Wish</td>\n",
       "      <td>6.6</td>\n",
       "      <td>[Death Wish Trailer #2 (2018) | Movieclips Tra...</td>\n",
       "      <td>[WkVCA0LDhwI, jsPLw7I06eY]</td>\n",
       "      <td>[{'id': 'Ugx8NrDez24s2zVozk94AaABAg', 'date_pu...</td>\n",
       "      <td>1360</td>\n",
       "    </tr>\n",
       "  </tbody>\n",
       "</table>\n",
       "</div>"
      ],
      "text/plain": [
       "           movie  rating                                       youtube_hits  \\\n",
       "0       Blockers     4.8  [Blockers Trailer #2 (2018) | Movieclips Trail...   \n",
       "1  A Quiet Place     8.6  [A Quiet Place Teaser Trailer #1 (2018) | Movi...   \n",
       "2         Gringo     6.0   [Gringo Trailer #1 (2018) | Moveiclips Trailers]   \n",
       "3    Tomb Raider     6.9  [Tomb Raider Trailer #2 (2018) | Movieclips Tr...   \n",
       "4     Death Wish     6.6  [Death Wish Trailer #2 (2018) | Movieclips Tra...   \n",
       "\n",
       "                               youtube_ids  \\\n",
       "0  [f5wFSv7AGgU, LrlaH1wVMgI, UxhPDwPO1mA]   \n",
       "1               [QmTt9c0S6HU, 3S0dT_V_Kvg]   \n",
       "2                            [7-bZLM3I-C0]   \n",
       "3               [rOEHpkZCc1Y, enLIWGK9cC8]   \n",
       "4               [WkVCA0LDhwI, jsPLw7I06eY]   \n",
       "\n",
       "                                     comment_threads n_top_level_comments  \n",
       "0  [{'id': 'UgwzfWOz7ibegz75OQ14AaABAg', 'date_pu...                  228  \n",
       "1  [{'id': 'UgwQPiVh2noJur6urJ54AaABAg', 'date_pu...                  127  \n",
       "2  [{'id': 'UgwNn-F2OeUunAF8ICJ4AaABAg', 'date_pu...                  362  \n",
       "3  [{'id': 'UgzlBM4wC0L20qLRSeJ4AaABAg', 'date_pu...                  759  \n",
       "4  [{'id': 'Ugx8NrDez24s2zVozk94AaABAg', 'date_pu...                 1360  "
      ]
     },
     "execution_count": 3,
     "metadata": {},
     "output_type": "execute_result"
    }
   ],
   "source": [
    "# Yea. Don't change this unless you want to run this loop again.\n",
    "reset_all_comments = False\n",
    "reset_all_comments = False\n",
    "\n",
    "if reset_all_comments:\n",
    "    imdb_youtube_comments = imdb_youtube_matched.copy()\n",
    "    \n",
    "    # This loop iterates through each movie's youtube id and gathers all comments into a list for that movie\n",
    "    # The nature of the errors encountered, explained below, make it necessary to only make requests to the\n",
    "    # youtube api when a row is null. This lets the loop continue where it left off when it encounters an error\n",
    "    for i in imdb_youtube_comments[imdb_youtube_comments['comment_threads'].isnull()].index:\n",
    "        for id in imdb_youtube_comments.iloc[i, 3]:\n",
    "            try:\n",
    "                # This is in a try block because sometimes we get a random error about a bad request or something. I am not\n",
    "                # entirely sure why it's happening, but I am sure it happens at random times. When it does happen, the loop exits\n",
    "                # without inserting the comment thread list into the dataframe. That means that I just have to sit here\n",
    "                # and continue to run the loop everytime it throws that error. When it prints the dataframe head, I'm done!\n",
    "                imdb_youtube_comments.at[i, 'comment_threads'] = create_movie_thread_list(id)\n",
    "                imdb_youtube_comments.loc[i, 'n_top_level_comments'] = len(imdb_youtube_comments.loc[i, 'comment_threads'])\n",
    "            except HttpError as err:\n",
    "                # Some Youtube videos have comments disabled. We can just skip these videos\n",
    "                if str(err).split(' ')[-2:-1] == ['disabled']:\n",
    "                    pass\n",
    "else:\n",
    "    imdb_youtube_comments = pickle.load(open('../imdb_youtube_comments.pkl', 'rb'))\n",
    "\n",
    "# We need to get rid of duplicate titles\n",
    "indices_of_duplicates = imdb_youtube_comments[imdb_youtube_comments.duplicated(subset='movie')].index\n",
    "imdb_youtube_comments.drop(imdb_youtube_comments.index[indices_of_duplicates], inplace=True)\n",
    "\n",
    "# We need to get rid of disabled comments videos\n",
    "imdb_youtube_comments.dropna(inplace=True)\n",
    "\n",
    "# Reset the index for easier indexing in future cells\n",
    "imdb_youtube_comments = imdb_youtube_comments.reset_index(drop=True)\n",
    "imdb_youtube_comments.head()"
   ]
  },
  {
   "cell_type": "markdown",
   "metadata": {},
   "source": [
    "Wow, that is wayyy less movies than I though we would end up with. This could be due to two of the following things:\n",
    "\n",
    "\n",
    "1. Bad title processing. If the titles still have extra whitespaces, stray punctuation, or misspellings, the current matching method will not find the correct imdb title to join the two datasets.\n",
    "2. The YouTube dataset is simply not large enough. I also did a quick little check for repeat movie titles and only ~50 titles were posted more than once."
   ]
  },
  {
   "cell_type": "code",
   "execution_count": 4,
   "metadata": {},
   "outputs": [
    {
     "data": {
      "image/png": "[encoded data removed]",
      "text/plain": [
       "<matplotlib.figure.Figure at 0x214eb52ce10>"
      ]
     },
     "metadata": {},
     "output_type": "display_data"
    }
   ],
   "source": [
    "plt.hist(imdb_youtube_comments.rating, bins=np.arange(0, 11, 0.5))\n",
    "plt.axvline(imdb_youtube_comments.rating.mean(), color='r')\n",
    "plt.axvline(imdb_youtube_comments.rating.mean() - imdb_youtube_comments.rating.std(), color='y')\n",
    "plt.axvline(imdb_youtube_comments.rating.mean() + imdb_youtube_comments.rating.std(), color='y')\n",
    "plt.title('Histogram of Movie Scores')\n",
    "plt.ylabel('Frequency')\n",
    "plt.xlabel('IMDB Movie Score')\n",
    "plt.show()"
   ]
  },
  {
   "cell_type": "code",
   "execution_count": 5,
   "metadata": {},
   "outputs": [
    {
     "data": {
      "image/png": "[encoded data removed]",
      "text/plain": [
       "<matplotlib.figure.Figure at 0x214eb623908>"
      ]
     },
     "metadata": {},
     "output_type": "display_data"
    }
   ],
   "source": [
    "# qq plot\n",
    "reviews = imdb_youtube_comments.rating.tolist()\n",
    "reviews = np.array(reviews)\n",
    "reviews.sort()\n",
    "review_mean = reviews.mean()\n",
    "review_std = reviews.std()\n",
    "qq_compare = np.random.normal(review_mean, review_std, size=len(reviews))\n",
    "qq_compare.sort()\n",
    "plt.plot(reviews, qq_compare)\n",
    "plt.title('Q-Q Plot')\n",
    "plt.xlim([2, 10])\n",
    "plt.xlabel('Movie Ratings')\n",
    "plt.ylim([2,10])\n",
    "plt.ylabel('Normal Distribution')\n",
    "plt.plot([2, 10], [2, 10])\n",
    "plt.show()"
   ]
  },
  {
   "cell_type": "markdown",
   "metadata": {},
   "source": [
    "The scores look pretty normal to me! I also want to check if there is any correlation between the length of a comment thread and the score."
   ]
  },
  {
   "cell_type": "code",
   "execution_count": 6,
   "metadata": {},
   "outputs": [
    {
     "name": "stdout",
     "output_type": "stream",
     "text": [
      "Correlation between thread size and movie rating: 0.075\n"
     ]
    }
   ],
   "source": [
    "corr = imdb_youtube_comments['rating'].corr(imdb_youtube_comments['n_top_level_comments'].astype(float))\n",
    "print('Correlation between thread size and movie rating: {:.3f}'.format(corr))"
   ]
  },
  {
   "cell_type": "markdown",
   "metadata": {},
   "source": [
    "That looks fine to me too."
   ]
  },
  {
   "cell_type": "code",
   "execution_count": 654,
   "metadata": {},
   "outputs": [],
   "source": [
    "def unpack_replies(comment_thread):\n",
    "    return [reply for reply in comment_thread['all_replies']]\n",
    "\n",
    "\n",
    "def unpack_all_comments(comment_thread_list, published_date):\n",
    "    comment_list = []\n",
    "    for comment in comment_thread_list:\n",
    "        if comment['all_replies'] != None:\n",
    "            comment_list.extend(unpack_replies(comment))\n",
    "        comment_list.append(comment['top_level_text'])\n",
    "    return comment_list"
   ]
  },
  {
   "cell_type": "code",
   "execution_count": 7,
   "metadata": {},
   "outputs": [],
   "source": [
    "# Set both to True if you want to rerun the loop\n",
    "reset_tokenized_comments = False\n",
    "reset_tokenized_comments = False\n",
    "\n",
    "tokenized_comments = imdb_youtube_comments.copy()\n",
    "\n",
    "if reset_tokenized_comments:\n",
    "    tokenized_comments['concatenated_comment_list'] = None\n",
    "    tokenized_comments['tokenized_comment_list'] = None\n",
    "    each_movie_comment_list = []\n",
    "    each_movie_tokens_list = []\n",
    "    for i, comment_thread_list in enumerate(tokenized_comments.loc[:,'comment_threads']):\n",
    "        each_movie_comment_list = unpack_all_comments(comment_thread_list)\n",
    "        each_movie_comment_list = [re.sub(\"\\n\", \"\", each) for each in each_movie_comment_list]\n",
    "        each_movie_comment_list = ' '.join(each_movie_comment_list)\n",
    "        each_movie_tokens_list = nltk.word_tokenize(each_movie_comment_list)\n",
    "        tokenized_comments.loc[i, 'concatenated_comment_list'] = each_movie_comment_list\n",
    "        tokenized_comments.at[i, 'tokenized_comment_list'] = each_movie_tokens_list\n",
    "    pickle.dump(tokenized_comments, open('imdb_features.pkl', 'wb'))\n",
    "    tokenized_comments.head()\n",
    "    \n",
    "else:\n",
    "    tokenized_comments = pickle.load(open('../imdb_features.pkl', 'rb'))\n",
    "    tokenized_comments.head()"
   ]
  },
  {
   "cell_type": "code",
   "execution_count": 8,
   "metadata": {},
   "outputs": [
    {
     "data": {
      "text/html": [
       "<div>\n",
       "<style scoped>\n",
       "    .dataframe tbody tr th:only-of-type {\n",
       "        vertical-align: middle;\n",
       "    }\n",
       "\n",
       "    .dataframe tbody tr th {\n",
       "        vertical-align: top;\n",
       "    }\n",
       "\n",
       "    .dataframe thead th {\n",
       "        text-align: right;\n",
       "    }\n",
       "</style>\n",
       "<table border=\"1\" class=\"dataframe\">\n",
       "  <thead>\n",
       "    <tr style=\"text-align: right;\">\n",
       "      <th></th>\n",
       "      <th>movie</th>\n",
       "      <th>rating</th>\n",
       "      <th>youtube_hits</th>\n",
       "      <th>youtube_ids</th>\n",
       "      <th>comment_threads</th>\n",
       "      <th>n_top_level_comments</th>\n",
       "      <th>concatenated_comment_list</th>\n",
       "      <th>tokenized_comment_list</th>\n",
       "    </tr>\n",
       "  </thead>\n",
       "  <tbody>\n",
       "    <tr>\n",
       "      <th>0</th>\n",
       "      <td>Blockers</td>\n",
       "      <td>4.8</td>\n",
       "      <td>[Blockers Trailer #2 (2018) | Movieclips Trail...</td>\n",
       "      <td>[f5wFSv7AGgU, LrlaH1wVMgI, UxhPDwPO1mA]</td>\n",
       "      <td>[{'id': 'UgwzfWOz7ibegz75OQ14AaABAg', 'date_pu...</td>\n",
       "      <td>228</td>\n",
       "      <td>That’s not even a thong. John Cena In another ...</td>\n",
       "      <td>[That, ’, s, not, even, a, thong, ., John, Cen...</td>\n",
       "    </tr>\n",
       "    <tr>\n",
       "      <th>1</th>\n",
       "      <td>A Quiet Place</td>\n",
       "      <td>8.6</td>\n",
       "      <td>[A Quiet Place Teaser Trailer #1 (2018) | Movi...</td>\n",
       "      <td>[QmTt9c0S6HU, 3S0dT_V_Kvg]</td>\n",
       "      <td>[{'id': 'UgwQPiVh2noJur6urJ54AaABAg', 'date_pu...</td>\n",
       "      <td>127</td>\n",
       "      <td>9.9 imdb rating? Dayuummm What a stupid kid th...</td>\n",
       "      <td>[9.9, imdb, rating, ?, Dayuummm, What, a, stup...</td>\n",
       "    </tr>\n",
       "    <tr>\n",
       "      <th>2</th>\n",
       "      <td>Gringo</td>\n",
       "      <td>6.0</td>\n",
       "      <td>[Gringo Trailer #1 (2018) | Moveiclips Trailers]</td>\n",
       "      <td>[7-bZLM3I-C0]</td>\n",
       "      <td>[{'id': 'UgwNn-F2OeUunAF8ICJ4AaABAg', 'date_pu...</td>\n",
       "      <td>362</td>\n",
       "      <td>This looks awful Scared of he For the record: ...</td>\n",
       "      <td>[This, looks, awful, Scared, of, he, For, the,...</td>\n",
       "    </tr>\n",
       "    <tr>\n",
       "      <th>3</th>\n",
       "      <td>Tomb Raider</td>\n",
       "      <td>6.9</td>\n",
       "      <td>[Tomb Raider Trailer #2 (2018) | Movieclips Tr...</td>\n",
       "      <td>[rOEHpkZCc1Y, enLIWGK9cC8]</td>\n",
       "      <td>[{'id': 'UgzlBM4wC0L20qLRSeJ4AaABAg', 'date_pu...</td>\n",
       "      <td>759</td>\n",
       "      <td>Nooooooooo. She does not look like Lara Croft....</td>\n",
       "      <td>[Nooooooooo, ., She, does, not, look, like, La...</td>\n",
       "    </tr>\n",
       "    <tr>\n",
       "      <th>4</th>\n",
       "      <td>Death Wish</td>\n",
       "      <td>6.6</td>\n",
       "      <td>[Death Wish Trailer #2 (2018) | Movieclips Tra...</td>\n",
       "      <td>[WkVCA0LDhwI, jsPLw7I06eY]</td>\n",
       "      <td>[{'id': 'Ugx8NrDez24s2zVozk94AaABAg', 'date_pu...</td>\n",
       "      <td>1360</td>\n",
       "      <td>\"You're not gonna kill me?\"\"No. Jack is!\" Bruc...</td>\n",
       "      <td>[``, You, 're, not, gon, na, kill, me, ?, '', ...</td>\n",
       "    </tr>\n",
       "  </tbody>\n",
       "</table>\n",
       "</div>"
      ],
      "text/plain": [
       "           movie  rating                                       youtube_hits  \\\n",
       "0       Blockers     4.8  [Blockers Trailer #2 (2018) | Movieclips Trail...   \n",
       "1  A Quiet Place     8.6  [A Quiet Place Teaser Trailer #1 (2018) | Movi...   \n",
       "2         Gringo     6.0   [Gringo Trailer #1 (2018) | Moveiclips Trailers]   \n",
       "3    Tomb Raider     6.9  [Tomb Raider Trailer #2 (2018) | Movieclips Tr...   \n",
       "4     Death Wish     6.6  [Death Wish Trailer #2 (2018) | Movieclips Tra...   \n",
       "\n",
       "                               youtube_ids  \\\n",
       "0  [f5wFSv7AGgU, LrlaH1wVMgI, UxhPDwPO1mA]   \n",
       "1               [QmTt9c0S6HU, 3S0dT_V_Kvg]   \n",
       "2                            [7-bZLM3I-C0]   \n",
       "3               [rOEHpkZCc1Y, enLIWGK9cC8]   \n",
       "4               [WkVCA0LDhwI, jsPLw7I06eY]   \n",
       "\n",
       "                                     comment_threads n_top_level_comments  \\\n",
       "0  [{'id': 'UgwzfWOz7ibegz75OQ14AaABAg', 'date_pu...                  228   \n",
       "1  [{'id': 'UgwQPiVh2noJur6urJ54AaABAg', 'date_pu...                  127   \n",
       "2  [{'id': 'UgwNn-F2OeUunAF8ICJ4AaABAg', 'date_pu...                  362   \n",
       "3  [{'id': 'UgzlBM4wC0L20qLRSeJ4AaABAg', 'date_pu...                  759   \n",
       "4  [{'id': 'Ugx8NrDez24s2zVozk94AaABAg', 'date_pu...                 1360   \n",
       "\n",
       "                           concatenated_comment_list  \\\n",
       "0  That’s not even a thong. John Cena In another ...   \n",
       "1  9.9 imdb rating? Dayuummm What a stupid kid th...   \n",
       "2  This looks awful Scared of he For the record: ...   \n",
       "3  Nooooooooo. She does not look like Lara Croft....   \n",
       "4  \"You're not gonna kill me?\"\"No. Jack is!\" Bruc...   \n",
       "\n",
       "                              tokenized_comment_list  \n",
       "0  [That, ’, s, not, even, a, thong, ., John, Cen...  \n",
       "1  [9.9, imdb, rating, ?, Dayuummm, What, a, stup...  \n",
       "2  [This, looks, awful, Scared, of, he, For, the,...  \n",
       "3  [Nooooooooo, ., She, does, not, look, like, La...  \n",
       "4  [``, You, 're, not, gon, na, kill, me, ?, '', ...  "
      ]
     },
     "execution_count": 8,
     "metadata": {},
     "output_type": "execute_result"
    }
   ],
   "source": [
    "tokenized_comments.head()"
   ]
  },
  {
   "cell_type": "code",
   "execution_count": 9,
   "metadata": {},
   "outputs": [],
   "source": [
    "count_vect = CountVectorizer(stop_words='english')\n",
    "# tokenized_comments.concatenated_comment_list.\n",
    "X = count_vect.fit_transform(tokenized_comments.concatenated_comment_list).toarray()\n",
    "y = tokenized_comments.rating"
   ]
  },
  {
   "cell_type": "code",
   "execution_count": 10,
   "metadata": {},
   "outputs": [
    {
     "data": {
      "text/plain": [
       "98602"
      ]
     },
     "execution_count": 10,
     "metadata": {},
     "output_type": "execute_result"
    }
   ],
   "source": [
    "len(count_vect.vocabulary_)"
   ]
  },
  {
   "cell_type": "code",
   "execution_count": 11,
   "metadata": {},
   "outputs": [
    {
     "name": "stdout",
     "output_type": "stream",
     "text": [
      "(341, 98602)\n"
     ]
    }
   ],
   "source": [
    "print(X.shape)"
   ]
  },
  {
   "cell_type": "markdown",
   "metadata": {},
   "source": [
    "# Running Naive Bayes on the Entire Dataset\n",
    "\n",
    "I quickly figured out from my initial attempts at this that running a regression analysis on the movie scores using text data is a little bit beyond the scope of the Supervised Learning Unit. Instead, I've opted for a \"Sentiment Analysis\", so to speak, because we are using the bag of words from each youtube trailer to predict if the IMDB score is good or bad (above or below 5). It is not truly sentiment analysis, because we are using the aggregated comments to predict the sentiment of something that, technically, hasn't happened yet.\n",
    "\n",
    "I have also thrown in the regression analysis, just to show how terrible it is."
   ]
  },
  {
   "cell_type": "code",
   "execution_count": 12,
   "metadata": {},
   "outputs": [],
   "source": [
    "# Now we will make two sets of data: One for a classification analysis, and one for regression analysis\n",
    "discrete_scores = pd.cut(y, bins=[0, y.mean(), 10], labels=[0, 1])\n",
    "X_train_c, X_test_c, y_train_c, y_test_c = train_test_split(X, discrete_scores, test_size=0.2)\n",
    "X_train_r, X_test_r, y_train_r, y_test_r = train_test_split(X, y, test_size=0.2)"
   ]
  },
  {
   "cell_type": "code",
   "execution_count": 13,
   "metadata": {},
   "outputs": [
    {
     "data": {
      "text/plain": [
       "341"
      ]
     },
     "execution_count": 13,
     "metadata": {},
     "output_type": "execute_result"
    }
   ],
   "source": [
    "len(discrete_scores)"
   ]
  },
  {
   "cell_type": "code",
   "execution_count": 14,
   "metadata": {},
   "outputs": [
    {
     "data": {
      "text/plain": [
       "0.5425219941348973"
      ]
     },
     "execution_count": 14,
     "metadata": {},
     "output_type": "execute_result"
    }
   ],
   "source": [
    "len(discrete_scores[discrete_scores==1])/len(discrete_scores)"
   ]
  },
  {
   "cell_type": "code",
   "execution_count": 15,
   "metadata": {},
   "outputs": [
    {
     "data": {
      "image/png": "[encoded data removed]",
      "text/plain": [
       "<matplotlib.figure.Figure at 0x1b70ccb1860>"
      ]
     },
     "metadata": {},
     "output_type": "display_data"
    }
   ],
   "source": [
    "from sklearn.naive_bayes import GaussianNB\n",
    "from sklearn.naive_bayes import MultinomialNB\n",
    "from sklearn.model_selection import cross_val_score\n",
    "from sklearn.model_selection import train_test_split\n",
    "from sklearn.metrics import f1_score\n",
    "\n",
    "r2_mnb_scores = []\n",
    "\n",
    "i_start, i_stop, i_step = .05, 5, .25\n",
    "for alpha in np.arange(i_start, i_stop, i_step):\n",
    "    mnb = MultinomialNB(alpha=alpha)\n",
    "    mnb.fit(X_train_c, y_train_c)\n",
    "    r2_mnb_scores.append(f1_score(y_test_c, mnb.predict(X_test_c)))\n",
    "    r2_mnb_scores.append(cross_val_score(mnb, X_train_c, y_train_c, cv=3, scoring='f1').mean())\n",
    "    \n",
    "gnb = GaussianNB()\n",
    "gnb.fit(X_train_c, y_train_c)\n",
    "\n",
    "plt.plot(np.arange(i_start, i_stop, i_step), r2_mnb_scores[1::2], label='Multinomial: Training')\n",
    "plt.plot(np.arange(i_start, i_stop, i_step), r2_mnb_scores[0::2], label='Multinomial: Test')\n",
    "plt.axhline(cross_val_score(gnb, X_train_c, y_train_c, cv=3, scoring='f1').mean(), color='red', label='Gaussian: Training')\n",
    "plt.axhline(f1_score(y_test_c, gnb.predict(X_test_c)), label='Gaussian: Test')\n",
    "plt.legend()\n",
    "plt.title(r'$F1$ vs. $\\alpha$ Value')\n",
    "plt.xlabel(r'$\\alpha$ Value')\n",
    "plt.ylabel('$F1$')\n",
    "plt.show()"
   ]
  },
  {
   "cell_type": "markdown",
   "metadata": {},
   "source": [
    "# Feature Selection\n",
    "\n",
    "It may prove helpful to reduce our massive feature space (~100k) down to something that we can use more easily. First, we can run a random forest and pull the most important features. Next, we will use PCA to further reduce our dataset. Finally, if necessary, we can down select further with another random forest's feature importances."
   ]
  },
  {
   "cell_type": "code",
   "execution_count": 16,
   "metadata": {},
   "outputs": [
    {
     "name": "stdout",
     "output_type": "stream",
     "text": [
      "size of new vocab list will be:  11744\n"
     ]
    }
   ],
   "source": [
    "from sklearn.ensemble import RandomForestRegressor\n",
    "rfr = RandomForestRegressor(n_estimators = 300, n_jobs=-1)\n",
    "rfr.fit(X_train_r, y_train_r)\n",
    "extra_important_features = rfr.feature_importances_\n",
    "print('size of new vocab list will be: ', np.count_nonzero(extra_important_features))"
   ]
  },
  {
   "cell_type": "code",
   "execution_count": 17,
   "metadata": {},
   "outputs": [],
   "source": [
    "# We can use the index of words with feature importance greater than zero to look at which words are the most important\n",
    "# from the count vector's vocab\n",
    "important_features = rfr.feature_importances_\n",
    "vocab_words = count_vect.get_feature_names()\n",
    "filtered_features = important_features[np.nonzero(important_features)]\n",
    "\n",
    "# This loop will pull all of the words that were used by the random forest and we will save it as a new vocab list\n",
    "filtered_vocab = []\n",
    "for i in np.nonzero(important_features)[0]:\n",
    "    filtered_vocab.append(vocab_words[i])"
   ]
  },
  {
   "cell_type": "code",
   "execution_count": 18,
   "metadata": {},
   "outputs": [
    {
     "data": {
      "text/plain": [
       "(341, 11744)"
      ]
     },
     "execution_count": 18,
     "metadata": {},
     "output_type": "execute_result"
    }
   ],
   "source": [
    "# Before we can use PCA to reduce our features, we need to make it into a vector it can actually use.\n",
    "# Once again, we will be using the count vector.\n",
    "\n",
    "count_vect = CountVectorizer(vocabulary=filtered_vocab)\n",
    "X_reduced = count_vect.fit_transform(tokenized_comments.concatenated_comment_list).toarray()\n",
    "X_reduced.shape"
   ]
  },
  {
   "cell_type": "code",
   "execution_count": 19,
   "metadata": {},
   "outputs": [
    {
     "data": {
      "text/plain": [
       "(341, 120)"
      ]
     },
     "execution_count": 19,
     "metadata": {},
     "output_type": "execute_result"
    }
   ],
   "source": [
    "from sklearn.decomposition import PCA\n",
    "\n",
    "pca = PCA(n_components=120)\n",
    "pca.fit(X)\n",
    "X_pca = pca.transform(X)\n",
    "X_pca.shape"
   ]
  },
  {
   "cell_type": "code",
   "execution_count": 20,
   "metadata": {},
   "outputs": [
    {
     "data": {
      "text/plain": [
       "(120,)"
      ]
     },
     "execution_count": 20,
     "metadata": {},
     "output_type": "execute_result"
    }
   ],
   "source": [
    "pca.explained_variance_ratio_.shape"
   ]
  },
  {
   "cell_type": "code",
   "execution_count": 21,
   "metadata": {},
   "outputs": [
    {
     "data": {
      "image/png": "[encoded data removed]",
      "text/plain": [
       "<matplotlib.figure.Figure at 0x1b70ce7cdd8>"
      ]
     },
     "metadata": {},
     "output_type": "display_data"
    }
   ],
   "source": [
    "variance_sums = []\n",
    "for i in range(30):\n",
    "    variance_sums.append(sum(pca.explained_variance_ratio_[:i]))\n",
    "\n",
    "plt.plot(range(1, 31), variance_sums[:], label='Cumulative')\n",
    "plt.plot(range(1,31), pca.explained_variance_ratio_[:30], \n",
    "         label='Each Component')\n",
    "plt.title('PCA Variance Explained')\n",
    "plt.xlim([1, 30])\n",
    "plt.xlabel('Component Number')\n",
    "plt.yticks(np.arange(0.0, 1.1, 0.1))\n",
    "plt.ylabel('Variance Explained')\n",
    "plt.legend()\n",
    "plt.show()"
   ]
  },
  {
   "cell_type": "markdown",
   "metadata": {},
   "source": [
    "Wow... So all the information stored in tens of thousands of words... can be reduced to 2 or three vectors... I don't think this is going to work very well but I hope it does."
   ]
  },
  {
   "cell_type": "code",
   "execution_count": 22,
   "metadata": {},
   "outputs": [
    {
     "data": {
      "text/plain": [
       "(341, 8)"
      ]
     },
     "execution_count": 22,
     "metadata": {},
     "output_type": "execute_result"
    }
   ],
   "source": [
    "# There is still a slight little bump right before 8, so let's take those components as well.\n",
    "X_pca = X_pca[:, :8]\n",
    "X_pca.shape"
   ]
  },
  {
   "cell_type": "code",
   "execution_count": 23,
   "metadata": {},
   "outputs": [
    {
     "data": {
      "text/plain": [
       "0.8468519845965609"
      ]
     },
     "execution_count": 23,
     "metadata": {},
     "output_type": "execute_result"
    }
   ],
   "source": [
    "sum(pca.explained_variance_ratio_[:8])"
   ]
  },
  {
   "cell_type": "markdown",
   "metadata": {},
   "source": [
    "# Using the Filtered Dataset for Regression"
   ]
  },
  {
   "cell_type": "code",
   "execution_count": 25,
   "metadata": {},
   "outputs": [
    {
     "ename": "NameError",
     "evalue": "name 'X_train_r_filter' is not defined",
     "output_type": "error",
     "traceback": [
      "\u001b[1;31m---------------------------------------------------------------------------\u001b[0m",
      "\u001b[1;31mNameError\u001b[0m                                 Traceback (most recent call last)",
      "\u001b[1;32m<ipython-input-25-a6ddcbd268c6>\u001b[0m in \u001b[0;36m<module>\u001b[1;34m()\u001b[0m\n\u001b[0;32m      1\u001b[0m \u001b[0mgbr\u001b[0m \u001b[1;33m=\u001b[0m \u001b[0mGradientBoostingRegressor\u001b[0m\u001b[1;33m(\u001b[0m\u001b[0mn_estimators\u001b[0m\u001b[1;33m=\u001b[0m\u001b[1;36m300\u001b[0m\u001b[1;33m,\u001b[0m \u001b[0mmax_depth\u001b[0m\u001b[1;33m=\u001b[0m\u001b[1;36m3\u001b[0m\u001b[1;33m)\u001b[0m\u001b[1;33m\u001b[0m\u001b[0m\n\u001b[1;32m----> 2\u001b[1;33m \u001b[0mgbr\u001b[0m\u001b[1;33m.\u001b[0m\u001b[0mfit\u001b[0m\u001b[1;33m(\u001b[0m\u001b[0mX_train_r_filter\u001b[0m\u001b[1;33m,\u001b[0m \u001b[0my_train_r_filter\u001b[0m\u001b[1;33m)\u001b[0m\u001b[1;33m\u001b[0m\u001b[0m\n\u001b[0m\u001b[0;32m      3\u001b[0m \u001b[0mcross_val_score\u001b[0m\u001b[1;33m(\u001b[0m\u001b[0mgbr\u001b[0m\u001b[1;33m,\u001b[0m \u001b[0mX_train_r_filter\u001b[0m\u001b[1;33m,\u001b[0m \u001b[0my_train_r_filter\u001b[0m\u001b[1;33m,\u001b[0m \u001b[0mscoring\u001b[0m\u001b[1;33m=\u001b[0m\u001b[1;34m'explained_variance'\u001b[0m\u001b[1;33m,\u001b[0m \u001b[0mcv\u001b[0m\u001b[1;33m=\u001b[0m\u001b[1;36m3\u001b[0m\u001b[1;33m,\u001b[0m \u001b[0mn_jobs\u001b[0m\u001b[1;33m=\u001b[0m\u001b[1;33m-\u001b[0m\u001b[1;36m1\u001b[0m\u001b[1;33m)\u001b[0m\u001b[1;33m\u001b[0m\u001b[0m\n",
      "\u001b[1;31mNameError\u001b[0m: name 'X_train_r_filter' is not defined"
     ]
    }
   ],
   "source": [
    "gbr = GradientBoostingRegressor(n_estimators=300, max_depth=3)\n",
    "gbr.fit(X_train_r_filter, y_train_r_filter)\n",
    "cross_val_score(gbr, X_train_r_filter, y_train_r_filter, scoring='explained_variance', cv=3, n_jobs=-1)"
   ]
  },
  {
   "cell_type": "code",
   "execution_count": null,
   "metadata": {},
   "outputs": [],
   "source": [
    "cross_val_score(gbr, X_train_r_filter, y_train_r_filter, scoring='r2', cv=3, n_jobs=-1)"
   ]
  },
  {
   "cell_type": "markdown",
   "metadata": {},
   "source": [
    "That turned out to be pretty bad as well. It looks like regression just isn't going to happen."
   ]
  },
  {
   "cell_type": "markdown",
   "metadata": {},
   "source": [
    "# Additional Classification Methods\n",
    "\n",
    "Here are some functions that I used in previous assignments that will be useful here as well."
   ]
  },
  {
   "cell_type": "code",
   "execution_count": 26,
   "metadata": {},
   "outputs": [],
   "source": [
    "# I got this handy little function from sklearn's documentation\n",
    "def report(results, n_top=5):\n",
    "    for i in range(1, n_top + 1):\n",
    "        candidates = np.flatnonzero(results['rank_test_score'] == i)\n",
    "        for candidate in candidates:\n",
    "            print(\"Model with rank: {0}\".format(i))\n",
    "            print(\"Mean validation score: {0:.3f} (std: {1:.3f})\".format(\n",
    "                  results['mean_test_score'][candidate],\n",
    "                  results['std_test_score'][candidate]))\n",
    "            print(\"Parameters: {0}\".format(results['params'][candidate]))\n",
    "            print(\"\")\n",
    "            \n",
    "from sklearn.metrics import precision_recall_curve\n",
    "# Note: This works with any model that supports the predict_proba() method\n",
    "def precision_recall_plot(clf, X, y):\n",
    "    \n",
    "    # Return array of precision, recall, and the thresholds used\n",
    "    precision, recall, thresh = precision_recall_curve(y, clf.predict_proba(X)[:,1])\n",
    "    thresh = np.concatenate([thresh, [1.0]])\n",
    "    plt.title('Precision and Recall Tradeoff')\n",
    "    plt.xlabel('Probability Cutoff')\n",
    "    plt.xlim([0, 1.0])\n",
    "    plt.ylabel('Score')\n",
    "    plt.plot(thresh, precision, label='Precision')\n",
    "    plt.plot(thresh, recall, label='Recall')\n",
    "    plt.axhline(1.0, linewidth=1, color='g', xmin=thresh[0], xmax=thresh[-1])\n",
    "    plt.legend()\n",
    "    plt.show()"
   ]
  },
  {
   "cell_type": "markdown",
   "metadata": {},
   "source": [
    "### LinearSVC"
   ]
  },
  {
   "cell_type": "code",
   "execution_count": 29,
   "metadata": {},
   "outputs": [
    {
     "name": "stdout",
     "output_type": "stream",
     "text": [
      "Model with rank: 1\n",
      "Mean validation score: 0.690 (std: 0.043)\n",
      "Parameters: {'C': 0.9953262623065233}\n",
      "\n",
      "Model with rank: 2\n",
      "Mean validation score: 0.672 (std: 0.037)\n",
      "Parameters: {'C': 0.9077785918978125}\n",
      "\n",
      "Model with rank: 3\n",
      "Mean validation score: 0.651 (std: 0.087)\n",
      "Parameters: {'C': 0.7711192792645334}\n",
      "\n",
      "Model with rank: 4\n",
      "Mean validation score: 0.638 (std: 0.084)\n",
      "Parameters: {'C': 0.39393893922589474}\n",
      "\n",
      "Model with rank: 5\n",
      "Mean validation score: 0.633 (std: 0.098)\n",
      "Parameters: {'C': 0.7124854022985089}\n",
      "\n"
     ]
    }
   ],
   "source": [
    "from sklearn.model_selection import RandomizedSearchCV\n",
    "from sklearn.svm import LinearSVC\n",
    "\n",
    "param_dist = {'C':np.random.uniform(0.001, 1, 100)}\n",
    "lin_svc = LinearSVC()\n",
    "\n",
    "n_iter_search = 50\n",
    "clf_random_search = RandomizedSearchCV(lin_svc, param_distributions=param_dist, \n",
    "                                       n_iter=n_iter_search, n_jobs=-1, \n",
    "                                       cv=5, scoring='f1')\n",
    "\n",
    "clf_random_search.fit(X_pca, discrete_scores)\n",
    "report(clf_random_search.cv_results_)"
   ]
  },
  {
   "cell_type": "markdown",
   "metadata": {},
   "source": [
    "### SVC"
   ]
  },
  {
   "cell_type": "code",
   "execution_count": 31,
   "metadata": {},
   "outputs": [
    {
     "name": "stdout",
     "output_type": "stream",
     "text": [
      "Model with rank: 1\n",
      "Mean validation score: 0.704 (std: 0.011)\n",
      "Parameters: {'C': 0.5529240705534328}\n",
      "\n",
      "Model with rank: 2\n",
      "Mean validation score: 0.703 (std: 0.004)\n",
      "Parameters: {'C': 0.33218056025366294}\n",
      "\n",
      "Model with rank: 2\n",
      "Mean validation score: 0.703 (std: 0.004)\n",
      "Parameters: {'C': 0.35346110092162686}\n",
      "\n",
      "Model with rank: 2\n",
      "Mean validation score: 0.703 (std: 0.004)\n",
      "Parameters: {'C': 0.3699236963505381}\n",
      "\n",
      "Model with rank: 2\n",
      "Mean validation score: 0.703 (std: 0.004)\n",
      "Parameters: {'C': 0.39405276345327134}\n",
      "\n",
      "Model with rank: 2\n",
      "Mean validation score: 0.703 (std: 0.004)\n",
      "Parameters: {'C': 0.343856673737662}\n",
      "\n",
      "Model with rank: 2\n",
      "Mean validation score: 0.703 (std: 0.004)\n",
      "Parameters: {'C': 0.350131227910083}\n",
      "\n",
      "Model with rank: 2\n",
      "Mean validation score: 0.703 (std: 0.004)\n",
      "Parameters: {'C': 0.34240767430107477}\n",
      "\n",
      "Model with rank: 2\n",
      "Mean validation score: 0.703 (std: 0.004)\n",
      "Parameters: {'C': 0.43287347349940086}\n",
      "\n",
      "Model with rank: 2\n",
      "Mean validation score: 0.703 (std: 0.004)\n",
      "Parameters: {'C': 0.36705608989430905}\n",
      "\n",
      "Model with rank: 2\n",
      "Mean validation score: 0.703 (std: 0.004)\n",
      "Parameters: {'C': 0.3425066677436195}\n",
      "\n",
      "Model with rank: 2\n",
      "Mean validation score: 0.703 (std: 0.004)\n",
      "Parameters: {'C': 0.4047110091872505}\n",
      "\n",
      "Model with rank: 2\n",
      "Mean validation score: 0.703 (std: 0.004)\n",
      "Parameters: {'C': 0.3087127812983297}\n",
      "\n",
      "Model with rank: 2\n",
      "Mean validation score: 0.703 (std: 0.004)\n",
      "Parameters: {'C': 0.3972749042469832}\n",
      "\n",
      "Model with rank: 2\n",
      "Mean validation score: 0.703 (std: 0.004)\n",
      "Parameters: {'C': 0.3829805314662995}\n",
      "\n",
      "Model with rank: 2\n",
      "Mean validation score: 0.703 (std: 0.004)\n",
      "Parameters: {'C': 0.31655176820425207}\n",
      "\n"
     ]
    }
   ],
   "source": [
    "from sklearn.svm import SVC\n",
    "\n",
    "param_dist = {'C':np.random.uniform(0.3, .7, 100)}\n",
    "svc = SVC()\n",
    "\n",
    "n_iter_search = 50\n",
    "clf_svc = RandomizedSearchCV(svc, param_distributions=param_dist, \n",
    "                                       n_iter=n_iter_search, n_jobs=-1, \n",
    "                                       cv=10, scoring='f1')\n",
    "\n",
    "clf_svc.fit(X_pca, discrete_scores)\n",
    "report(clf_svc.cv_results_)"
   ]
  },
  {
   "cell_type": "markdown",
   "metadata": {},
   "source": [
    "Not bad, that's about what we got from our Naive Bayes classifiers. Next, let's try simple logistic regression with different regularization strategies."
   ]
  },
  {
   "cell_type": "markdown",
   "metadata": {},
   "source": [
    "### K-Nearest Neighbors Classifier"
   ]
  },
  {
   "cell_type": "code",
   "execution_count": 32,
   "metadata": {},
   "outputs": [
    {
     "data": {
      "image/png": "[encoded data removed]",
      "text/plain": [
       "<matplotlib.figure.Figure at 0x1b70cdd4e10>"
      ]
     },
     "metadata": {},
     "output_type": "display_data"
    },
    {
     "name": "stdout",
     "output_type": "stream",
     "text": [
      "Model with rank: 1\n",
      "Mean validation score: 0.596 (std: 0.045)\n",
      "Parameters: {'leaf_size': 35, 'n_neighbors': 7, 'p': 2}\n",
      "\n",
      "Model with rank: 1\n",
      "Mean validation score: 0.596 (std: 0.045)\n",
      "Parameters: {'leaf_size': 10, 'n_neighbors': 7, 'p': 2}\n",
      "\n",
      "Model with rank: 3\n",
      "Mean validation score: 0.581 (std: 0.054)\n",
      "Parameters: {'leaf_size': 22, 'n_neighbors': 1, 'p': 1}\n",
      "\n",
      "Model with rank: 4\n",
      "Mean validation score: 0.574 (std: 0.065)\n",
      "Parameters: {'leaf_size': 39, 'n_neighbors': 5, 'p': 2}\n",
      "\n",
      "Model with rank: 5\n",
      "Mean validation score: 0.545 (std: 0.042)\n",
      "Parameters: {'leaf_size': 36, 'n_neighbors': 3, 'p': 1}\n",
      "\n"
     ]
    }
   ],
   "source": [
    "from sklearn.neighbors import KNeighborsClassifier\n",
    "from scipy.stats.distributions import randint\n",
    "# Initialize the knn algo\n",
    "knn = KNeighborsClassifier(algorithm='auto')\n",
    "\n",
    "param_dist = {\"n_neighbors\" : randint(1, 11),\n",
    "              \"leaf_size\" : randint(10, 40),\n",
    "              \"p\" : randint(1, 10)}\n",
    "\n",
    "n_iter_search = 50\n",
    "random_search = RandomizedSearchCV(knn, param_distributions=param_dist,\n",
    "                                  n_iter=n_iter_search, n_jobs=-1,\n",
    "                                  scoring='f1')\n",
    "\n",
    "random_search.fit(X_pca, discrete_scores)\n",
    "\n",
    "precision_recall_plot(random_search, X_pca, discrete_scores)\n",
    "report(random_search.cv_results_)"
   ]
  },
  {
   "cell_type": "markdown",
   "metadata": {},
   "source": [
    "### Random Forest Classifier"
   ]
  },
  {
   "cell_type": "code",
   "execution_count": 35,
   "metadata": {},
   "outputs": [
    {
     "data": {
      "image/png": "[encoded data removed]",
      "text/plain": [
       "<matplotlib.figure.Figure at 0x1b70cf96400>"
      ]
     },
     "metadata": {},
     "output_type": "display_data"
    },
    {
     "name": "stdout",
     "output_type": "stream",
     "text": [
      "Model with rank: 1\n",
      "Mean validation score: 0.703 (std: 0.008)\n",
      "Parameters: {'n_estimators': 414, 'max_depth': 1}\n",
      "\n",
      "Model with rank: 2\n",
      "Mean validation score: 0.701 (std: 0.003)\n",
      "Parameters: {'n_estimators': 529, 'max_depth': 1}\n",
      "\n",
      "Model with rank: 3\n",
      "Mean validation score: 0.699 (std: 0.021)\n",
      "Parameters: {'n_estimators': 533, 'max_depth': 2}\n",
      "\n"
     ]
    }
   ],
   "source": [
    "from sklearn.ensemble import RandomForestClassifier\n",
    "\n",
    "params_dist = {'n_estimators' : np.random.randint(100, 850, 1000),\n",
    "               'max_depth' : np.random.randint(1, 5, 1000)}\n",
    "\n",
    "n_iter_search = 50\n",
    "forest = RandomForestClassifier()\n",
    "clf = RandomizedSearchCV(forest, param_distributions=params_dist,\n",
    "                         n_iter=n_iter_search, scoring='f1',\n",
    "                        n_jobs=-1)\n",
    "\n",
    "clf.fit(X_pca, discrete_scores)\n",
    "clear_output()\n",
    "precision_recall_plot(clf, X_pca, discrete_scores)\n",
    "report(clf.cv_results_, 3)"
   ]
  },
  {
   "cell_type": "markdown",
   "metadata": {},
   "source": [
    "### Gradient Boosting Classifier"
   ]
  },
  {
   "cell_type": "code",
   "execution_count": 37,
   "metadata": {},
   "outputs": [
    {
     "data": {
      "image/png": "[encoded data removed]",
      "text/plain": [
       "<matplotlib.figure.Figure at 0x1b70cdce710>"
      ]
     },
     "metadata": {},
     "output_type": "display_data"
    },
    {
     "name": "stdout",
     "output_type": "stream",
     "text": [
      "Model with rank: 1\n",
      "Mean validation score: 0.656 (std: 0.011)\n",
      "Parameters: {'n_estimators': 121, 'max_depth': 1}\n",
      "\n",
      "Model with rank: 2\n",
      "Mean validation score: 0.653 (std: 0.009)\n",
      "Parameters: {'n_estimators': 132, 'max_depth': 1}\n",
      "\n",
      "Model with rank: 3\n",
      "Mean validation score: 0.639 (std: 0.046)\n",
      "Parameters: {'n_estimators': 152, 'max_depth': 2}\n",
      "\n"
     ]
    }
   ],
   "source": [
    "params_dist = {'n_estimators' : np.random.randint(100, 850, 1000),\n",
    "               'max_depth' : np.random.randint(1, 5, 1000)}\n",
    "\n",
    "n_iter_search = 50\n",
    "gbc = GradientBoostingClassifier()\n",
    "clf = RandomizedSearchCV(gbc, param_distributions=params_dist,\n",
    "                         n_iter=n_iter_search, scoring='f1',\n",
    "                        n_jobs=-1)\n",
    "\n",
    "clf.fit(X_pca, discrete_scores)\n",
    "clear_output()\n",
    "precision_recall_plot(clf, X_pca, discrete_scores)\n",
    "report(clf.cv_results_, 3)"
   ]
  },
  {
   "cell_type": "markdown",
   "metadata": {},
   "source": [
    "### Logistic Regression"
   ]
  },
  {
   "cell_type": "code",
   "execution_count": 38,
   "metadata": {},
   "outputs": [
    {
     "name": "stdout",
     "output_type": "stream",
     "text": [
      "Model with rank: 1\n",
      "Mean validation score: 0.707 (std: 0.029)\n",
      "Parameters: {'C': 0.31580524086586814, 'penalty': 'l1'}\n",
      "\n",
      "Model with rank: 1\n",
      "Mean validation score: 0.707 (std: 0.029)\n",
      "Parameters: {'C': 0.3031642706348249, 'penalty': 'l1'}\n",
      "\n",
      "Model with rank: 1\n",
      "Mean validation score: 0.707 (std: 0.029)\n",
      "Parameters: {'C': 0.32886607925717887, 'penalty': 'l1'}\n",
      "\n",
      "Model with rank: 1\n",
      "Mean validation score: 0.707 (std: 0.029)\n",
      "Parameters: {'C': 0.3257257131459883, 'penalty': 'l1'}\n",
      "\n",
      "Model with rank: 1\n",
      "Mean validation score: 0.707 (std: 0.029)\n",
      "Parameters: {'C': 0.36335104638450705, 'penalty': 'l1'}\n",
      "\n",
      "Model with rank: 1\n",
      "Mean validation score: 0.707 (std: 0.029)\n",
      "Parameters: {'C': 0.3450356901175848, 'penalty': 'l1'}\n",
      "\n",
      "Model with rank: 1\n",
      "Mean validation score: 0.707 (std: 0.029)\n",
      "Parameters: {'C': 0.34804671076585075, 'penalty': 'l1'}\n",
      "\n",
      "Model with rank: 1\n",
      "Mean validation score: 0.707 (std: 0.029)\n",
      "Parameters: {'C': 0.3423125383970231, 'penalty': 'l1'}\n",
      "\n",
      "Model with rank: 1\n",
      "Mean validation score: 0.707 (std: 0.029)\n",
      "Parameters: {'C': 0.35750877748058235, 'penalty': 'l1'}\n",
      "\n",
      "Model with rank: 1\n",
      "Mean validation score: 0.707 (std: 0.029)\n",
      "Parameters: {'C': 0.3460672636146936, 'penalty': 'l1'}\n",
      "\n"
     ]
    }
   ],
   "source": [
    "from sklearn.linear_model import LogisticRegression\n",
    "from scipy.stats import uniform\n",
    "\n",
    "params_dist = {'penalty' : ['l1', 'l2'], \n",
    "               'C' : uniform(0, 0.5)}\n",
    "\n",
    "log_reg = LogisticRegression(solver='liblinear', max_iter=200)\n",
    "\n",
    "n_iter_search = 100\n",
    "clf = RandomizedSearchCV(log_reg, param_distributions=params_dist,\n",
    "                         n_iter=n_iter_search, scoring='f1',\n",
    "                        n_jobs=-1)\n",
    "\n",
    "clf.fit(X_pca, discrete_scores)\n",
    "clear_output()\n",
    "report(clf.cv_results_, 3)"
   ]
  },
  {
   "cell_type": "code",
   "execution_count": 19,
   "metadata": {},
   "outputs": [],
   "source": [
    "# This function produces an audible beep so I know when my code is done running.\n",
    "def beep_me():\n",
    "    import winsound\n",
    "    frequency = 1800  # Set Frequency To 2500 Hertz\n",
    "    duration = 500  # Set Duration To 1000 ms == 1 second\n",
    "    winsound.Beep(frequency, duration)"
   ]
  },
  {
   "cell_type": "code",
   "execution_count": null,
   "metadata": {},
   "outputs": [],
   "source": [
    "beep_me()"
   ]
  },
  {
   "cell_type": "markdown",
   "metadata": {},
   "source": [
    "# Interactive Demo (Does not work, unfortunately)"
   ]
  },
  {
   "cell_type": "code",
   "execution_count": null,
   "metadata": {},
   "outputs": [],
   "source": [
    "client = get_authenticated_service()"
   ]
  },
  {
   "cell_type": "code",
   "execution_count": 39,
   "metadata": {},
   "outputs": [
    {
     "ename": "NameError",
     "evalue": "name 'create_movie_thread_list' is not defined",
     "output_type": "error",
     "traceback": [
      "\u001b[1;31m---------------------------------------------------------------------------\u001b[0m",
      "\u001b[1;31mNameError\u001b[0m                                 Traceback (most recent call last)",
      "\u001b[1;32m<ipython-input-39-f790f0b63883>\u001b[0m in \u001b[0;36m<module>\u001b[1;34m()\u001b[0m\n\u001b[0;32m      1\u001b[0m \u001b[0mvideoId\u001b[0m \u001b[1;33m=\u001b[0m \u001b[1;34m'AntcyqJ6brc'\u001b[0m\u001b[1;33m\u001b[0m\u001b[0m\n\u001b[1;32m----> 2\u001b[1;33m \u001b[0mdemo_comment_list\u001b[0m \u001b[1;33m=\u001b[0m \u001b[0mcreate_movie_thread_list\u001b[0m\u001b[1;33m(\u001b[0m\u001b[0mvideoId\u001b[0m\u001b[1;33m)\u001b[0m\u001b[1;33m\u001b[0m\u001b[0m\n\u001b[0m\u001b[0;32m      3\u001b[0m \u001b[0mprint\u001b[0m\u001b[1;33m(\u001b[0m\u001b[1;34m'Number of comments: {}\\n'\u001b[0m\u001b[1;33m.\u001b[0m\u001b[0mformat\u001b[0m\u001b[1;33m(\u001b[0m\u001b[0mlen\u001b[0m\u001b[1;33m(\u001b[0m\u001b[0mdemo_comment_list\u001b[0m\u001b[1;33m)\u001b[0m\u001b[1;33m)\u001b[0m\u001b[1;33m)\u001b[0m\u001b[1;33m\u001b[0m\u001b[0m\n\u001b[0;32m      4\u001b[0m \u001b[0mdemo_comment_list\u001b[0m\u001b[1;33m[\u001b[0m\u001b[1;33m:\u001b[0m\u001b[1;36m3\u001b[0m\u001b[1;33m]\u001b[0m\u001b[1;33m\u001b[0m\u001b[0m\n",
      "\u001b[1;31mNameError\u001b[0m: name 'create_movie_thread_list' is not defined"
     ]
    }
   ],
   "source": [
    "videoId = 'AntcyqJ6brc'\n",
    "demo_comment_list = create_movie_thread_list(videoId)\n",
    "print('Number of comments: {}\\n'.format(len(demo_comment_list)))\n",
    "demo_comment_list[:3]"
   ]
  },
  {
   "cell_type": "code",
   "execution_count": null,
   "metadata": {},
   "outputs": [],
   "source": [
    "concatenated_comments = unpack_all_comments(demo_comment_list, published_date=None)\n",
    "concatenated_comments = [re.sub(\"\\n\", \"\", each) for each in concatenated_comments]\n",
    "concatenated_comments = [' '.join(concatenated_comments)]\n",
    "# i_need_an_iterator = [concatenated_comments, 'placeholder']\n",
    "print(concatenated_comments[0][:500])"
   ]
  },
  {
   "cell_type": "code",
   "execution_count": null,
   "metadata": {},
   "outputs": [],
   "source": [
    "X_demo = count_vect.transform(concatenated_comments).toarray()\n",
    "print('X_demo.shape:\\n{}\\n'.format(X_demo.shape))\n",
    "X_demo_pca = pca.transform(X_demo)[:, :8]\n",
    "print('X_demo_pca:\\n{}'.format(X_demo_pca))"
   ]
  },
  {
   "cell_type": "code",
   "execution_count": null,
   "metadata": {},
   "outputs": [],
   "source": [
    "tokenized_comments['concatenated_comment_list'][9][idx-20:idx+20]"
   ]
  },
  {
   "cell_type": "code",
   "execution_count": null,
   "metadata": {},
   "outputs": [],
   "source": [
    "concatenated_comments[0][idx-20:idx+20]"
   ]
  },
  {
   "cell_type": "code",
   "execution_count": null,
   "metadata": {},
   "outputs": [],
   "source": [
    "idx = 6920\n",
    "tokenized_comments['concatenated_comment_list'][9] == concatenated_comments[0]"
   ]
  },
  {
   "cell_type": "code",
   "execution_count": null,
   "metadata": {},
   "outputs": [],
   "source": [
    "demo_prediction = clf_svc.best_estimator_.predict(X_demo_pca)[0]\n",
    "\n",
    "predict_word = 'above'\n",
    "if demo_prediction == 0:\n",
    "    predict_word = 'below'\n",
    "\n",
    "print('The estimator has spoken!')\n",
    "print('It predicts that the movie will have a score {} {:.2}'.format(predict_word, imdb_youtube_matched.rating.mean()))\n",
    "print('In other words, the estimator predicts \"{}\"'.format(demo_prediction))"
   ]
  },
  {
   "cell_type": "code",
   "execution_count": null,
   "metadata": {},
   "outputs": [],
   "source": [
    "demo_prediction"
   ]
  },
  {
   "cell_type": "code",
   "execution_count": null,
   "metadata": {},
   "outputs": [],
   "source": []
  },
  {
   "cell_type": "code",
   "execution_count": null,
   "metadata": {},
   "outputs": [],
   "source": []
  }
 ],
 "metadata": {
  "kernelspec": {
   "display_name": "Python 3",
   "language": "python",
   "name": "python3"
  },
  "language_info": {
   "codemirror_mode": {
    "name": "ipython",
    "version": 3
   },
   "file_extension": ".py",
   "mimetype": "text/x-python",
   "name": "python",
   "nbconvert_exporter": "python",
   "pygments_lexer": "ipython3",
   "version": "3.6.4"
  }
 },
 "nbformat": 4,
 "nbformat_minor": 2
}
